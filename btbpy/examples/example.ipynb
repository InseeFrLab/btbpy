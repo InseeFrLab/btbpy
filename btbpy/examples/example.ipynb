{
 "cells": [
  {
   "cell_type": "code",
   "execution_count": 2,
   "metadata": {},
   "outputs": [
    {
     "ename": "ModuleNotFoundError",
     "evalue": "No module named 'btbpy'",
     "output_type": "error",
     "traceback": [
      "\u001b[0;31m---------------------------------------------------------------------------\u001b[0m",
      "\u001b[0;31mModuleNotFoundError\u001b[0m                       Traceback (most recent call last)",
      "\u001b[0;32m<ipython-input-2-234996ed5fa3>\u001b[0m in \u001b[0;36m<module>\u001b[0;34m\u001b[0m\n\u001b[0;32m----> 1\u001b[0;31m \u001b[0;32mimport\u001b[0m \u001b[0mbtbpy\u001b[0m\u001b[0;34m\u001b[0m\u001b[0;34m\u001b[0m\u001b[0m\n\u001b[0m\u001b[1;32m      2\u001b[0m \u001b[0;32mimport\u001b[0m \u001b[0mpandas\u001b[0m\u001b[0;34m\u001b[0m\u001b[0;34m\u001b[0m\u001b[0m\n\u001b[1;32m      3\u001b[0m \u001b[0;32mimport\u001b[0m \u001b[0mos\u001b[0m\u001b[0;34m\u001b[0m\u001b[0;34m\u001b[0m\u001b[0m\n",
      "\u001b[0;31mModuleNotFoundError\u001b[0m: No module named 'btbpy'"
     ]
    }
   ],
   "source": [
    "import btbpy\n",
    "import pandas\n",
    "import os"
   ]
  },
  {
   "cell_type": "code",
   "execution_count": null,
   "metadata": {},
   "outputs": [],
   "source": [
    "chem_data_dir = os.path.join(os.path.dirname(btbpy.__file__),'data')\n",
    "chem_data_carb = os.path.join(chem_data_dir, 'dfPrix_SP95_2016.csv')\n",
    "chem_data_grid = os.path.join(chem_data_dir, 'fr_metro_grid1km.csv')\n",
    "carburants = pandas.read_csv(chem_data_carb)\n",
    "fr_1km = pandas.read_csv(chem_data_grid)"
   ]
  },
  {
   "cell_type": "code",
   "execution_count": 3,
   "metadata": {},
   "outputs": [
    {
     "name": "stdout",
     "output_type": "stream",
     "text": [
      "-------------------------------------------------\n",
      "number of asked cores : 1\n",
      "-------------------------------------------------\n",
      "start of smoothing loop\n",
      "-------------------------------------------------\n",
      "-------------------------------------------------\n",
      "end of smoothing loop - duration time in seconds = 0.5195906162261963\n",
      "-------------------------------------------------\n",
      "-------------------------------------------------\n",
      "start of the final grid map cooking\n",
      "-------------------------------------------------\n",
      "\t-------------------------------------------------\n",
      "\tstart of making polygons\n",
      "\t-------------------------------------------------\n",
      "\t-------------------------------------------------\n",
      "\tend of making polygons - duration in seconds = 7.03857159614563\n",
      "\t-------------------------------------------------\n",
      "\tstart of saving geodataframe\n",
      "\t-------------------------------------------------\n",
      "\t-------------------------------------------------\n",
      "\tend of saving geodataframe - duration in seconds = 0.10351848602294922\n",
      "\t-------------------------------------------------\n",
      "-------------------------------------------------\n",
      "end of the final grid map cooking - duration = 7.143174648284912\n",
      "=================================================\n",
      "end of program - enjoy\n",
      "=================================================\n"
     ]
    }
   ],
   "source": [
    "gridResultat = btbpy.kernelSmoothing(carburants, '2154', 1000, 50000, fr_1km)"
   ]
  },
  {
   "cell_type": "code",
   "execution_count": 4,
   "metadata": {},
   "outputs": [
    {
     "data": {
      "text/html": [
       "<div>\n",
       "<style scoped>\n",
       "    .dataframe tbody tr th:only-of-type {\n",
       "        vertical-align: middle;\n",
       "    }\n",
       "\n",
       "    .dataframe tbody tr th {\n",
       "        vertical-align: top;\n",
       "    }\n",
       "\n",
       "    .dataframe thead th {\n",
       "        text-align: right;\n",
       "    }\n",
       "</style>\n",
       "<table border=\"1\" class=\"dataframe\">\n",
       "  <thead>\n",
       "    <tr style=\"text-align: right;\">\n",
       "      <th></th>\n",
       "      <th>x</th>\n",
       "      <th>y</th>\n",
       "      <th>SP95</th>\n",
       "      <th>nbStations</th>\n",
       "      <th>geometry</th>\n",
       "    </tr>\n",
       "  </thead>\n",
       "  <tbody>\n",
       "    <tr>\n",
       "      <th>0</th>\n",
       "      <td>1218000.0</td>\n",
       "      <td>6050000.0</td>\n",
       "      <td>0.012274</td>\n",
       "      <td>0.008085</td>\n",
       "      <td>POLYGON ((1217500 6050500, 1218500 6050500, 12...</td>\n",
       "    </tr>\n",
       "    <tr>\n",
       "      <th>1</th>\n",
       "      <td>1219000.0</td>\n",
       "      <td>6050000.0</td>\n",
       "      <td>0.012188</td>\n",
       "      <td>0.008029</td>\n",
       "      <td>POLYGON ((1218500 6050500, 1219500 6050500, 12...</td>\n",
       "    </tr>\n",
       "    <tr>\n",
       "      <th>2</th>\n",
       "      <td>1220000.0</td>\n",
       "      <td>6050000.0</td>\n",
       "      <td>0.012082</td>\n",
       "      <td>0.007959</td>\n",
       "      <td>POLYGON ((1219500 6050500, 1220500 6050500, 12...</td>\n",
       "    </tr>\n",
       "    <tr>\n",
       "      <th>3</th>\n",
       "      <td>1225000.0</td>\n",
       "      <td>6050000.0</td>\n",
       "      <td>0.011279</td>\n",
       "      <td>0.007430</td>\n",
       "      <td>POLYGON ((1224500 6050500, 1225500 6050500, 12...</td>\n",
       "    </tr>\n",
       "    <tr>\n",
       "      <th>4</th>\n",
       "      <td>1218000.0</td>\n",
       "      <td>6051000.0</td>\n",
       "      <td>0.012783</td>\n",
       "      <td>0.008421</td>\n",
       "      <td>POLYGON ((1217500 6051500, 1218500 6051500, 12...</td>\n",
       "    </tr>\n",
       "  </tbody>\n",
       "</table>\n",
       "</div>"
      ],
      "text/plain": [
       "           x          y      SP95  nbStations  \\\n",
       "0  1218000.0  6050000.0  0.012274    0.008085   \n",
       "1  1219000.0  6050000.0  0.012188    0.008029   \n",
       "2  1220000.0  6050000.0  0.012082    0.007959   \n",
       "3  1225000.0  6050000.0  0.011279    0.007430   \n",
       "4  1218000.0  6051000.0  0.012783    0.008421   \n",
       "\n",
       "                                            geometry  \n",
       "0  POLYGON ((1217500 6050500, 1218500 6050500, 12...  \n",
       "1  POLYGON ((1218500 6050500, 1219500 6050500, 12...  \n",
       "2  POLYGON ((1219500 6050500, 1220500 6050500, 12...  \n",
       "3  POLYGON ((1224500 6050500, 1225500 6050500, 12...  \n",
       "4  POLYGON ((1217500 6051500, 1218500 6051500, 12...  "
      ]
     },
     "execution_count": 4,
     "metadata": {},
     "output_type": "execute_result"
    }
   ],
   "source": [
    "gridResultat.head()"
   ]
  },
  {
   "cell_type": "code",
   "execution_count": 5,
   "metadata": {},
   "outputs": [],
   "source": [
    "gridResultat['prixSP95'] = gridResultat.SP95/gridResultat.nbStations"
   ]
  },
  {
   "cell_type": "code",
   "execution_count": 6,
   "metadata": {},
   "outputs": [
    {
     "data": {
      "text/html": [
       "<div>\n",
       "<style scoped>\n",
       "    .dataframe tbody tr th:only-of-type {\n",
       "        vertical-align: middle;\n",
       "    }\n",
       "\n",
       "    .dataframe tbody tr th {\n",
       "        vertical-align: top;\n",
       "    }\n",
       "\n",
       "    .dataframe thead th {\n",
       "        text-align: right;\n",
       "    }\n",
       "</style>\n",
       "<table border=\"1\" class=\"dataframe\">\n",
       "  <thead>\n",
       "    <tr style=\"text-align: right;\">\n",
       "      <th></th>\n",
       "      <th>x</th>\n",
       "      <th>y</th>\n",
       "      <th>SP95</th>\n",
       "      <th>nbStations</th>\n",
       "      <th>geometry</th>\n",
       "      <th>prixSP95</th>\n",
       "    </tr>\n",
       "  </thead>\n",
       "  <tbody>\n",
       "    <tr>\n",
       "      <th>0</th>\n",
       "      <td>1218000.0</td>\n",
       "      <td>6050000.0</td>\n",
       "      <td>0.012274</td>\n",
       "      <td>0.008085</td>\n",
       "      <td>POLYGON ((1217500 6050500, 1218500 6050500, 12...</td>\n",
       "      <td>1.518046</td>\n",
       "    </tr>\n",
       "    <tr>\n",
       "      <th>1</th>\n",
       "      <td>1219000.0</td>\n",
       "      <td>6050000.0</td>\n",
       "      <td>0.012188</td>\n",
       "      <td>0.008029</td>\n",
       "      <td>POLYGON ((1218500 6050500, 1219500 6050500, 12...</td>\n",
       "      <td>1.518052</td>\n",
       "    </tr>\n",
       "    <tr>\n",
       "      <th>2</th>\n",
       "      <td>1220000.0</td>\n",
       "      <td>6050000.0</td>\n",
       "      <td>0.012082</td>\n",
       "      <td>0.007959</td>\n",
       "      <td>POLYGON ((1219500 6050500, 1220500 6050500, 12...</td>\n",
       "      <td>1.518056</td>\n",
       "    </tr>\n",
       "    <tr>\n",
       "      <th>3</th>\n",
       "      <td>1225000.0</td>\n",
       "      <td>6050000.0</td>\n",
       "      <td>0.011279</td>\n",
       "      <td>0.007430</td>\n",
       "      <td>POLYGON ((1224500 6050500, 1225500 6050500, 12...</td>\n",
       "      <td>1.518020</td>\n",
       "    </tr>\n",
       "    <tr>\n",
       "      <th>4</th>\n",
       "      <td>1218000.0</td>\n",
       "      <td>6051000.0</td>\n",
       "      <td>0.012783</td>\n",
       "      <td>0.008421</td>\n",
       "      <td>POLYGON ((1217500 6051500, 1218500 6051500, 12...</td>\n",
       "      <td>1.518014</td>\n",
       "    </tr>\n",
       "  </tbody>\n",
       "</table>\n",
       "</div>"
      ],
      "text/plain": [
       "           x          y      SP95  nbStations  \\\n",
       "0  1218000.0  6050000.0  0.012274    0.008085   \n",
       "1  1219000.0  6050000.0  0.012188    0.008029   \n",
       "2  1220000.0  6050000.0  0.012082    0.007959   \n",
       "3  1225000.0  6050000.0  0.011279    0.007430   \n",
       "4  1218000.0  6051000.0  0.012783    0.008421   \n",
       "\n",
       "                                            geometry  prixSP95  \n",
       "0  POLYGON ((1217500 6050500, 1218500 6050500, 12...  1.518046  \n",
       "1  POLYGON ((1218500 6050500, 1219500 6050500, 12...  1.518052  \n",
       "2  POLYGON ((1219500 6050500, 1220500 6050500, 12...  1.518056  \n",
       "3  POLYGON ((1224500 6050500, 1225500 6050500, 12...  1.518020  \n",
       "4  POLYGON ((1217500 6051500, 1218500 6051500, 12...  1.518014  "
      ]
     },
     "execution_count": 6,
     "metadata": {},
     "output_type": "execute_result"
    }
   ],
   "source": [
    "gridResultat.head()"
   ]
  },
  {
   "cell_type": "code",
   "execution_count": 8,
   "metadata": {},
   "outputs": [
    {
     "data": {
      "text/plain": [
       "<matplotlib.axes._subplots.AxesSubplot at 0x7f452fc124a8>"
      ]
     },
     "execution_count": 8,
     "metadata": {},
     "output_type": "execute_result"
    },
    {
     "data": {
      "image/png": "[encoded data removed]",
      "text/plain": [
       "<Figure size 432x288 with 2 Axes>"
      ]
     },
     "metadata": {
      "needs_background": "light"
     },
     "output_type": "display_data"
    }
   ],
   "source": [
    "import matplotlib.pyplot as plt\n",
    "fig, ax = plt.subplots(1, 1)\n",
    "gridResultat.plot(column='prixSP95', ax=ax, legend=True)"
   ]
  },
  {
   "cell_type": "code",
   "execution_count": 1,
   "metadata": {},
   "outputs": [
    {
     "ename": "NameError",
     "evalue": "name 'os' is not defined",
     "output_type": "error",
     "traceback": [
      "\u001b[0;31m---------------------------------------------------------------------------\u001b[0m",
      "\u001b[0;31mNameError\u001b[0m                                 Traceback (most recent call last)",
      "\u001b[0;32m<ipython-input-1-fdb6f7d4fd93>\u001b[0m in \u001b[0;36m<module>\u001b[0;34m\u001b[0m\n\u001b[0;32m----> 1\u001b[0;31m \u001b[0mchem_data_reunion\u001b[0m \u001b[0;34m=\u001b[0m \u001b[0mos\u001b[0m\u001b[0;34m.\u001b[0m\u001b[0mpath\u001b[0m\u001b[0;34m.\u001b[0m\u001b[0mjoin\u001b[0m\u001b[0;34m(\u001b[0m\u001b[0mchem_data_dir\u001b[0m\u001b[0;34m,\u001b[0m \u001b[0;34m'reunion_epsg32740.csv'\u001b[0m\u001b[0;34m)\u001b[0m\u001b[0;34m\u001b[0m\u001b[0;34m\u001b[0m\u001b[0m\n\u001b[0m\u001b[1;32m      2\u001b[0m \u001b[0mchem_data_reunion_grid\u001b[0m \u001b[0;34m=\u001b[0m \u001b[0mos\u001b[0m\u001b[0;34m.\u001b[0m\u001b[0mpath\u001b[0m\u001b[0;34m.\u001b[0m\u001b[0mjoin\u001b[0m\u001b[0;34m(\u001b[0m\u001b[0mchem_data_dir\u001b[0m\u001b[0;34m,\u001b[0m \u001b[0;34m'reunion_grid200m_epsg32740'\u001b[0m\u001b[0;34m)\u001b[0m\u001b[0;34m\u001b[0m\u001b[0;34m\u001b[0m\u001b[0m\n\u001b[1;32m      3\u001b[0m \u001b[0mreunion\u001b[0m \u001b[0;34m=\u001b[0m \u001b[0mpandas\u001b[0m\u001b[0;34m.\u001b[0m\u001b[0mread_csv\u001b[0m\u001b[0;34m(\u001b[0m\u001b[0mchem_data_reunion\u001b[0m\u001b[0;34m)\u001b[0m\u001b[0;34m\u001b[0m\u001b[0;34m\u001b[0m\u001b[0m\n\u001b[1;32m      4\u001b[0m \u001b[0mreu_200m\u001b[0m \u001b[0;34m=\u001b[0m \u001b[0mpandas\u001b[0m\u001b[0;34m.\u001b[0m\u001b[0mread_csv\u001b[0m\u001b[0;34m(\u001b[0m\u001b[0mchem_data_reunion_grid\u001b[0m\u001b[0;34m)\u001b[0m\u001b[0;34m\u001b[0m\u001b[0;34m\u001b[0m\u001b[0m\n",
      "\u001b[0;31mNameError\u001b[0m: name 'os' is not defined"
     ]
    }
   ],
   "source": [
    "chem_data_reunion = os.path.join(chem_data_dir, 'reunion_epsg32740.csv')\n",
    "chem_data_reunion_grid = os.path.join(chem_data_dir, 'reunion_grid200m_epsg32740')\n",
    "reunion = pandas.read_csv(chem_data_reunion)\n",
    "reu_200m = pandas.read_csv(chem_data_reunion_grid)"
   ]
  },
  {
   "cell_type": "code",
   "execution_count": null,
   "metadata": {},
   "outputs": [],
   "source": []
  }
 ],
 "metadata": {
  "kernelspec": {
   "display_name": "Python 3",
   "language": "python",
   "name": "python3"
  },
  "language_info": {
   "codemirror_mode": {
    "name": "ipython",
    "version": 3
   },
   "file_extension": ".py",
   "mimetype": "text/x-python",
   "name": "python",
   "nbconvert_exporter": "python",
   "pygments_lexer": "ipython3",
   "version": "3.7.1"
  }
 },
 "nbformat": 4,
 "nbformat_minor": 2
}
